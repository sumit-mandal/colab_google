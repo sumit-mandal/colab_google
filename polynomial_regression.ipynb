{
  "nbformat": 4,
  "nbformat_minor": 0,
  "metadata": {
    "colab": {
      "name": "polynomial_regression.ipynb",
      "provenance": [],
      "collapsed_sections": [],
      "authorship_tag": "ABX9TyMHXaLyXq72voroNHynOgOU",
      "include_colab_link": true
    },
    "kernelspec": {
      "name": "python3",
      "display_name": "Python 3"
    },
    "accelerator": "GPU"
  },
  "cells": [
    {
      "cell_type": "markdown",
      "metadata": {
        "id": "view-in-github",
        "colab_type": "text"
      },
      "source": [
        "<a href=\"https://colab.research.google.com/github/sumit-mandal/colab_google/blob/main/polynomial_regression.ipynb\" target=\"_parent\"><img src=\"https://colab.research.google.com/assets/colab-badge.svg\" alt=\"Open In Colab\"/></a>"
      ]
    },
    {
      "cell_type": "code",
      "metadata": {
        "id": "a-p1Pn76KD9Y"
      },
      "source": [
        "import numpy as np\r\n",
        "import matplotlib.pyplot as plt\r\n",
        "from keras.models import Sequential\r\n",
        "from keras.layers import Dense\r\n",
        "from keras.optimizers import Adam"
      ],
      "execution_count": 8,
      "outputs": []
    },
    {
      "cell_type": "code",
      "metadata": {
        "id": "O0I-3_CeK_Jy"
      },
      "source": [
        "np.random.seed(0)"
      ],
      "execution_count": 9,
      "outputs": []
    },
    {
      "cell_type": "code",
      "metadata": {
        "colab": {
          "base_uri": "https://localhost:8080/",
          "height": 282
        },
        "id": "3Mp6-kVxKPYd",
        "outputId": "45514250-77f8-4206-c508-c6106b823cbf"
      },
      "source": [
        "points = 500\r\n",
        "X = np.linspace(-3,3,points)\r\n",
        "y = np.sin(X) + np.random.uniform(-0.5,0.5,points)\r\n",
        "#adding some noise to our editors so that each point in this curve can deviate from its standard shape\r\n",
        "#using np.random.uniform we'll add variance in our graph. To make our model more compex.\r\n",
        "# And this variance we'll have is just that for every point it's vertical value y is going to vertically shift in a range of -0.5 up until 0.5 units from the curve \r\n",
        "# and we do this for every y value. \r\n",
        "\r\n",
        "\r\n",
        "plt.scatter(X,y)\r\n",
        "#Return evenly spaced numbers over a specified interval."
      ],
      "execution_count": 10,
      "outputs": [
        {
          "output_type": "execute_result",
          "data": {
            "text/plain": [
              "<matplotlib.collections.PathCollection at 0x7efce136d978>"
            ]
          },
          "metadata": {
            "tags": []
          },
          "execution_count": 10
        },
        {
          "output_type": "display_data",
          "data": {
            "image/png": "[encoded data removed]",
            "text/plain": [
              "<Figure size 432x288 with 1 Axes>"
            ]
          },
          "metadata": {
            "tags": [],
            "needs_background": "light"
          }
        }
      ]
    },
    {
      "cell_type": "code",
      "metadata": {
        "id": "N2_uLkr2Kr8i"
      },
      "source": [
        "model = Sequential()\r\n",
        "model.add(Dense(50, activation='sigmoid',input_dim=1))\r\n",
        "#input_dim means input nodes\r\n",
        "\r\n",
        "#hidden layer\r\n",
        "model.add(Dense(30,activation='sigmoid'))\r\n",
        "#30 nodes\r\n",
        "\r\n",
        "#output layer\r\n",
        "model.add(Dense(1))\r\n"
      ],
      "execution_count": 11,
      "outputs": []
    },
    {
      "cell_type": "code",
      "metadata": {
        "colab": {
          "base_uri": "https://localhost:8080/"
        },
        "id": "4PqJNXDQNLXi",
        "outputId": "aae5d19d-423e-4908-dbff-f80e3f6d20f6"
      },
      "source": [
        "adam = Adam(lr=0.01)\r\n",
        "model.compile(loss='mse',optimizer=adam)\r\n",
        "model.fit(X,y,epochs=50)\r\n",
        "#mean squared error\r\n",
        "\r\n",
        "#We calculate the standard error of the estimate the mean square error \r\n",
        "#the standard error of the estimate is a measure of the accuracy of the models prediction."
      ],
      "execution_count": 12,
      "outputs": [
        {
          "output_type": "stream",
          "text": [
            "Epoch 1/50\n",
            "16/16 [==============================] - 0s 2ms/step - loss: 0.8287\n",
            "Epoch 2/50\n",
            "16/16 [==============================] - 0s 2ms/step - loss: 0.2836\n",
            "Epoch 3/50\n",
            "16/16 [==============================] - 0s 2ms/step - loss: 0.2284\n",
            "Epoch 4/50\n",
            "16/16 [==============================] - 0s 2ms/step - loss: 0.2410\n",
            "Epoch 5/50\n",
            "16/16 [==============================] - 0s 2ms/step - loss: 0.2168\n",
            "Epoch 6/50\n",
            "16/16 [==============================] - 0s 2ms/step - loss: 0.2018\n",
            "Epoch 7/50\n",
            "16/16 [==============================] - 0s 2ms/step - loss: 0.2184\n",
            "Epoch 8/50\n",
            "16/16 [==============================] - 0s 2ms/step - loss: 0.2177\n",
            "Epoch 9/50\n",
            "16/16 [==============================] - 0s 2ms/step - loss: 0.2063\n",
            "Epoch 10/50\n",
            "16/16 [==============================] - 0s 2ms/step - loss: 0.2227\n",
            "Epoch 11/50\n",
            "16/16 [==============================] - 0s 2ms/step - loss: 0.1711\n",
            "Epoch 12/50\n",
            "16/16 [==============================] - 0s 2ms/step - loss: 0.1685\n",
            "Epoch 13/50\n",
            "16/16 [==============================] - 0s 2ms/step - loss: 0.1599\n",
            "Epoch 14/50\n",
            "16/16 [==============================] - 0s 2ms/step - loss: 0.1530\n",
            "Epoch 15/50\n",
            "16/16 [==============================] - 0s 2ms/step - loss: 0.1413\n",
            "Epoch 16/50\n",
            "16/16 [==============================] - 0s 2ms/step - loss: 0.1385\n",
            "Epoch 17/50\n",
            "16/16 [==============================] - 0s 2ms/step - loss: 0.1455\n",
            "Epoch 18/50\n",
            "16/16 [==============================] - 0s 2ms/step - loss: 0.1333\n",
            "Epoch 19/50\n",
            "16/16 [==============================] - 0s 2ms/step - loss: 0.1144\n",
            "Epoch 20/50\n",
            "16/16 [==============================] - 0s 2ms/step - loss: 0.1174\n",
            "Epoch 21/50\n",
            "16/16 [==============================] - 0s 2ms/step - loss: 0.1271\n",
            "Epoch 22/50\n",
            "16/16 [==============================] - 0s 2ms/step - loss: 0.1313\n",
            "Epoch 23/50\n",
            "16/16 [==============================] - 0s 2ms/step - loss: 0.1255\n",
            "Epoch 24/50\n",
            "16/16 [==============================] - 0s 2ms/step - loss: 0.1115\n",
            "Epoch 25/50\n",
            "16/16 [==============================] - 0s 2ms/step - loss: 0.1135\n",
            "Epoch 26/50\n",
            "16/16 [==============================] - 0s 2ms/step - loss: 0.1077\n",
            "Epoch 27/50\n",
            "16/16 [==============================] - 0s 2ms/step - loss: 0.1246\n",
            "Epoch 28/50\n",
            "16/16 [==============================] - 0s 2ms/step - loss: 0.1094\n",
            "Epoch 29/50\n",
            "16/16 [==============================] - 0s 2ms/step - loss: 0.1194\n",
            "Epoch 30/50\n",
            "16/16 [==============================] - 0s 2ms/step - loss: 0.1067\n",
            "Epoch 31/50\n",
            "16/16 [==============================] - 0s 2ms/step - loss: 0.1059\n",
            "Epoch 32/50\n",
            "16/16 [==============================] - 0s 2ms/step - loss: 0.1070\n",
            "Epoch 33/50\n",
            "16/16 [==============================] - 0s 2ms/step - loss: 0.1096\n",
            "Epoch 34/50\n",
            "16/16 [==============================] - 0s 2ms/step - loss: 0.1054\n",
            "Epoch 35/50\n",
            "16/16 [==============================] - 0s 2ms/step - loss: 0.1085\n",
            "Epoch 36/50\n",
            "16/16 [==============================] - 0s 2ms/step - loss: 0.1296\n",
            "Epoch 37/50\n",
            "16/16 [==============================] - 0s 2ms/step - loss: 0.1034\n",
            "Epoch 38/50\n",
            "16/16 [==============================] - 0s 2ms/step - loss: 0.1151\n",
            "Epoch 39/50\n",
            "16/16 [==============================] - 0s 2ms/step - loss: 0.1025\n",
            "Epoch 40/50\n",
            "16/16 [==============================] - 0s 2ms/step - loss: 0.1036\n",
            "Epoch 41/50\n",
            "16/16 [==============================] - 0s 2ms/step - loss: 0.1091\n",
            "Epoch 42/50\n",
            "16/16 [==============================] - 0s 2ms/step - loss: 0.1148\n",
            "Epoch 43/50\n",
            "16/16 [==============================] - 0s 2ms/step - loss: 0.1004\n",
            "Epoch 44/50\n",
            "16/16 [==============================] - 0s 2ms/step - loss: 0.1033\n",
            "Epoch 45/50\n",
            "16/16 [==============================] - 0s 2ms/step - loss: 0.1012\n",
            "Epoch 46/50\n",
            "16/16 [==============================] - 0s 2ms/step - loss: 0.1123\n",
            "Epoch 47/50\n",
            "16/16 [==============================] - 0s 2ms/step - loss: 0.1006\n",
            "Epoch 48/50\n",
            "16/16 [==============================] - 0s 2ms/step - loss: 0.0952\n",
            "Epoch 49/50\n",
            "16/16 [==============================] - 0s 2ms/step - loss: 0.1031\n",
            "Epoch 50/50\n",
            "16/16 [==============================] - 0s 2ms/step - loss: 0.1081\n"
          ],
          "name": "stdout"
        },
        {
          "output_type": "execute_result",
          "data": {
            "text/plain": [
              "<tensorflow.python.keras.callbacks.History at 0x7efce12d9518>"
            ]
          },
          "metadata": {
            "tags": []
          },
          "execution_count": 12
        }
      ]
    },
    {
      "cell_type": "code",
      "metadata": {
        "colab": {
          "base_uri": "https://localhost:8080/",
          "height": 265
        },
        "id": "TZIWvBADOmmD",
        "outputId": "5083d334-8991-4d55-cbf9-23e0d3226cf1"
      },
      "source": [
        "prediction = model.predict(X)\r\n",
        "plt.scatter(X,y)\r\n",
        "plt.plot(X,prediction, 'ro')\r\n",
        "#for each estimated value,ro is shown as red colored circle\r\n",
        "plt.show()"
      ],
      "execution_count": 15,
      "outputs": [
        {
          "output_type": "display_data",
          "data": {
            "image/png": "[encoded data removed]",
            "text/plain": [
              "<Figure size 432x288 with 1 Axes>"
            ]
          },
          "metadata": {
            "tags": [],
            "needs_background": "light"
          }
        }
      ]
    },
    {
      "cell_type": "code",
      "metadata": {
        "id": "_pz-1FrYUFDb"
      },
      "source": [
        ""
      ],
      "execution_count": 13,
      "outputs": []
    }
  ]
}